{
 "cells": [
  {
   "cell_type": "code",
   "execution_count": 2,
   "metadata": {
    "collapsed": true
   },
   "outputs": [],
   "source": [
    "#@title Imports\n",
    "import os\n",
    "import mne\n",
    "import pickle\n",
    "import random\n",
    "import warnings\n",
    "import numpy as np\n",
    "import matplotlib.pyplot as plt\n",
    "\n",
    "# from google.colab import drive, files\n",
    "\n",
    "from Inner_Speech_Dataset.Python_Processing.Data_extractions import  Extract_data_from_subject, Extract_data_multisubject\n",
    "from Inner_Speech_Dataset.Python_Processing.Data_processing import  Select_time_window, Transform_for_classificator, Split_trial_in_time\n",
    "\n",
    "np.random.seed(23)\n",
    "\n",
    "mne.set_log_level(verbose='warning') #to avoid info at terminal\n",
    "warnings.filterwarnings(action = \"ignore\", category = DeprecationWarning )\n",
    "warnings.filterwarnings(action = \"ignore\", category = FutureWarning )"
   ]
  },
  {
   "cell_type": "code",
   "execution_count": 3,
   "outputs": [],
   "source": [
    "### Hyperparameters\n",
    "\n",
    "# The root dir have to point to the folder that cointains the database\n",
    "root_dir = \"A:/trial\"\n",
    "\n",
    "# Data Type\n",
    "datatype = \"EEG\"\n",
    "\n",
    "# Sampling rate\n",
    "fs = 256\n",
    "\n",
    "# Select the useful par of each trial. Time in seconds\n",
    "t_start = 1.5\n",
    "t_end = 3.5\n",
    "\n",
    "# Subject number\n",
    "N_S = 1   #[1 to 10]\n",
    "\n",
    "N_S_list = list(np.arange(1,11))"
   ],
   "metadata": {
    "collapsed": false
   }
  },
  {
   "cell_type": "code",
   "execution_count": 4,
   "outputs": [
    {
     "name": "stdout",
     "output_type": "stream",
     "text": [
      "Iteration  0\n",
      "Subject  1\n",
      "Inner iteration  1\n",
      "Inner iteration  2\n",
      "Inner iteration  3\n",
      "Iteration  1\n",
      "Subject  2\n",
      "Inner iteration  1\n",
      "Inner iteration  2\n",
      "Inner iteration  3\n",
      "Iteration  2\n",
      "Subject  3\n",
      "Inner iteration  1\n",
      "Inner iteration  2\n",
      "Inner iteration  3\n",
      "Iteration  3\n",
      "Subject  4\n",
      "Inner iteration  1\n",
      "Inner iteration  2\n",
      "Inner iteration  3\n",
      "Iteration  4\n",
      "Subject  5\n",
      "Inner iteration  1\n",
      "Inner iteration  2\n",
      "Inner iteration  3\n",
      "Iteration  5\n",
      "Subject  6\n",
      "Inner iteration  1\n",
      "Inner iteration  2\n",
      "Inner iteration  3\n",
      "Iteration  6\n",
      "Subject  7\n",
      "Inner iteration  1\n",
      "Inner iteration  2\n",
      "Inner iteration  3\n",
      "Iteration  7\n",
      "Subject  8\n",
      "Inner iteration  1\n",
      "Inner iteration  2\n",
      "Inner iteration  3\n",
      "Iteration  8\n",
      "Subject  9\n",
      "Inner iteration  1\n",
      "Inner iteration  2\n",
      "Inner iteration  3\n",
      "Iteration  9\n",
      "Subject  10\n",
      "Inner iteration  1\n",
      "Inner iteration  2\n",
      "Inner iteration  3\n",
      "Saving element 0 into array \n",
      "Saving element 1 into array \n",
      "Saving element 2 into array \n",
      "Saving element 3 into array \n",
      "Saving element 4 into array \n",
      "Saving element 5 into array \n",
      "Saving element 6 into array \n",
      "Saving element 7 into array \n",
      "Saving element 8 into array \n",
      "Saving element 9 into array \n",
      "Saving element 10 into array \n",
      "Saving element 11 into array \n",
      "Saving element 12 into array \n",
      "Saving element 13 into array \n",
      "Saving element 14 into array \n",
      "Saving element 15 into array \n",
      "Saving element 16 into array \n",
      "Saving element 17 into array \n",
      "Saving element 18 into array \n",
      "Saving element 19 into array \n",
      "Saving element 20 into array \n",
      "Saving element 21 into array \n",
      "Saving element 22 into array \n",
      "Saving element 23 into array \n",
      "Saving element 24 into array \n",
      "Saving element 25 into array \n",
      "Saving element 26 into array \n",
      "Saving element 27 into array \n",
      "Saving element 28 into array \n",
      "Saving element 29 into array \n",
      "X shape (5640, 128, 1153)\n",
      "Y shape (5640, 4)\n"
     ]
    }
   ],
   "source": [
    "#@title Data extraction and processing\n",
    "\n",
    "# Load all trials for a sigle subject\n",
    "# X, Y = Extract_data_from_subject(root_dir, N_S, datatype)\n",
    "\n",
    "X, Y = Extract_data_multisubject(root_dir, N_S_list, datatype)\n",
    "\n",
    "# Cut usefull time. i.e action interval\n",
    "X = Select_time_window(X = X, t_start = t_start, t_end = t_end, fs = fs)"
   ],
   "metadata": {
    "collapsed": false
   }
  },
  {
   "cell_type": "code",
   "execution_count": 5,
   "outputs": [
    {
     "name": "stdout",
     "output_type": "stream",
     "text": [
      "Data shape: [trials x channels x samples]\n",
      "(5640, 128, 512)\n",
      "Labels shape\n",
      "(5640, 4)\n"
     ]
    }
   ],
   "source": [
    "print(\"Data shape: [trials x channels x samples]\")\n",
    "print(X.shape) # Trials, channels, samples\n",
    "\n",
    "print(\"Labels shape\")\n",
    "print(Y.shape) # Time stamp, class , condition, session"
   ],
   "metadata": {
    "collapsed": false
   }
  },
  {
   "cell_type": "code",
   "execution_count": 6,
   "outputs": [],
   "source": [
    "# # Conditions to compared\n",
    "# Conditions = [[\"Inner\"],[\"Inner\"]]\n",
    "# # The class for the above condition\n",
    "# Classes    = [  [\"Up\"] ,[\"Down\"] ]\n",
    "\n",
    "# # Conditions to compared\n",
    "# Conditions = [[\"Inner\"],[\"Inner\"], [\"Inner\"]]\n",
    "# # The class for the above condition\n",
    "# Classes    = [  [\"Up\"] ,[\"Down\"], [\"Right\"] ]\n",
    "\n",
    "# Conditions to compared\n",
    "Conditions = [[\"Inner\"],[\"Inner\"], [\"Inner\"], [\"Inner\"]]\n",
    "# The class for the above condition\n",
    "Classes    = [  [\"Up\"] ,[\"Down\"], [\"Right\"], [\"Left\"] ]"
   ],
   "metadata": {
    "collapsed": false
   }
  },
  {
   "cell_type": "code",
   "execution_count": 7,
   "outputs": [],
   "source": [
    "# Transform data and keep only the trials of interes\n",
    "X , Y =  Transform_for_classificator(X, Y, Classes, Conditions)"
   ],
   "metadata": {
    "collapsed": false
   }
  },
  {
   "cell_type": "code",
   "execution_count": 8,
   "outputs": [
    {
     "name": "stdout",
     "output_type": "stream",
     "text": [
      "Final data shape\n",
      "(2236, 128, 512)\n",
      "Final labels shape\n",
      "(2236,)\n"
     ]
    }
   ],
   "source": [
    "print(\"Final data shape\")\n",
    "print(X.shape)\n",
    "\n",
    "print(\"Final labels shape\")\n",
    "print(Y.shape)"
   ],
   "metadata": {
    "collapsed": false
   }
  },
  {
   "cell_type": "code",
   "execution_count": 9,
   "outputs": [],
   "source": [
    "import numpy as np\n",
    "# from scipy.signal import welch\n",
    "#\n",
    "# def extract_psd(X, fs):\n",
    "#     psd_features = []\n",
    "#     for trial in X:\n",
    "#         psd_trial = []\n",
    "#         for channel in trial:\n",
    "#             freqs, psd = welch(channel, fs=fs)  # Use your sampling frequency\n",
    "#             psd_trial.append(psd)\n",
    "#         psd_features.append(psd_trial)\n",
    "#     return np.array(psd_features)\n",
    "#\n",
    "# # Assuming your EEG data X has shape (Trials, Channels, Samples)\n",
    "# # Call the function to extract PSD features\n",
    "# X_PSD = extract_psd(X, fs)\n",
    "#\n",
    "# # The shape of X_PSD will be (Trials, Channels, Frequencies)\n",
    "# # You can apply other feature extraction techniques similarly"
   ],
   "metadata": {
    "collapsed": false
   }
  },
  {
   "cell_type": "code",
   "execution_count": 10,
   "outputs": [],
   "source": [
    "Trials = X.shape[0]\n",
    "Channels = X.shape[1]\n",
    "Samples = X.shape[2]"
   ],
   "metadata": {
    "collapsed": false
   }
  },
  {
   "cell_type": "code",
   "execution_count": 11,
   "outputs": [],
   "source": [
    "# Flatten the EEG data to (Trials, Channels * Samples)\n",
    "X_flattened = X.reshape(Trials, -1)\n",
    "\n",
    "# X_PSD_flattened = X_PSD.reshape(Trials, -1)"
   ],
   "metadata": {
    "collapsed": false
   }
  },
  {
   "cell_type": "code",
   "execution_count": 11,
   "outputs": [
    {
     "data": {
      "text/plain": "<Figure size 640x480 with 1 Axes>",
      "image/png": "[encoded data removed]"
     },
     "metadata": {},
     "output_type": "display_data"
    },
    {
     "data": {
      "text/plain": "<Figure size 640x480 with 1 Axes>",
      "image/png": "[encoded data removed]"
     },
     "metadata": {},
     "output_type": "display_data"
    }
   ],
   "source": [
    "import matplotlib.pyplot as plt\n",
    "# from sklearn.decomposition import PCA\n",
    "#\n",
    "# # Apply PCA\n",
    "# pca = PCA()  # Choose the desired number of components\n",
    "# X_pca = pca.fit_transform(X_flattened)\n",
    "#\n",
    "# # Calculate the explained variance ratio\n",
    "# explained_variance_ratio = pca.explained_variance_ratio_\n",
    "#\n",
    "# # Calculate the cumulative explained variance ratio\n",
    "# cumulative_variance = np.cumsum(explained_variance_ratio)\n",
    "#\n",
    "# # Plot the explained variance ratio\n",
    "# plt.plot(range(1, len(explained_variance_ratio) + 1), explained_variance_ratio, marker='o')\n",
    "# plt.xlabel('Number of PCA Components')\n",
    "# plt.ylabel('Explained Variance Ratio')\n",
    "# plt.title('Scree Plot')\n",
    "# plt.show()\n",
    "#\n",
    "# # Plot the cumulative explained variance ratio\n",
    "# plt.plot(range(1, len(cumulative_variance) + 1), cumulative_variance, marker='o')\n",
    "# plt.xlabel('Number of PCA Components')\n",
    "# plt.ylabel('Cumulative Explained Variance Ratio')\n",
    "# plt.title('Cumulative Explained Variance')\n",
    "# plt.show()"
   ],
   "metadata": {
    "collapsed": false
   }
  },
  {
   "cell_type": "code",
   "execution_count": 12,
   "outputs": [
    {
     "name": "stdout",
     "output_type": "stream",
     "text": [
      "PCA reduced shape: (2236, 1000)\n",
      "SelectKBest reduced shape: (2236, 1000)\n"
     ]
    }
   ],
   "source": [
    "# # EEG Data\n",
    "#\n",
    "#\n",
    "# # Apply PCA\n",
    "# pca = PCA(n_components=1000)  # Choose the desired number of components\n",
    "# X_pca = pca.fit_transform(X_flattened)\n",
    "#\n",
    "# # Apply SelectKBest with ANOVA F-value\n",
    "# selector = SelectKBest(score_func=f_classif, k=1000)  # Choose the desired number of features\n",
    "# X_selected = selector.fit_transform(X_flattened, Y.ravel())\n",
    "#\n",
    "# # Print the shapes of the reduced feature sets\n",
    "# print(\"PCA reduced shape:\", X_pca.shape)\n",
    "# print(\"SelectKBest reduced shape:\", X_selected.shape)"
   ],
   "metadata": {
    "collapsed": false
   }
  },
  {
   "cell_type": "code",
   "execution_count": 21,
   "outputs": [
    {
     "name": "stdout",
     "output_type": "stream",
     "text": [
      "PSD-PCA reduced shape: (2236, 1000)\n",
      "SelectKBest PSD-reduced shape: (2236, 1000)\n"
     ]
    }
   ],
   "source": [
    "# # EEG PSD Data\n",
    "#\n",
    "# # Apply PCA\n",
    "# pca = PCA(n_components=1000)  # Choose the desired number of components\n",
    "# X_PSD_pca = pca.fit_transform(X_PSD_flattened)\n",
    "#\n",
    "# # Apply SelectKBest with ANOVA F-value\n",
    "# selector = SelectKBest(score_func=f_classif, k=1000)  # Choose the desired number of features\n",
    "# X_PSD_selected = selector.fit_transform(X_PSD_flattened, Y.ravel())\n",
    "#\n",
    "# # Print the shapes of the reduced feature sets\n",
    "# print(\"PSD-PCA reduced shape:\", X_PSD_pca.shape)\n",
    "# print(\"SelectKBest PSD-reduced shape:\", X_PSD_selected.shape)"
   ],
   "metadata": {
    "collapsed": false
   }
  },
  {
   "cell_type": "code",
   "execution_count": 18,
   "outputs": [],
   "source": [
    "from sklearn.model_selection import train_test_split\n",
    "from sklearn.metrics import accuracy_score, confusion_matrix, f1_score\n",
    "from sklearn.neighbors import KNeighborsClassifier\n",
    "from sklearn.svm import SVC\n",
    "from sklearn.tree import DecisionTreeClassifier\n",
    "from sklearn.ensemble import RandomForestClassifier\n",
    "from tqdm import tqdm\n",
    "from sklearn.feature_selection import mutual_info_classif\n",
    "from sklearn.feature_selection import SelectKBest, f_classif\n",
    "from sklearn.discriminant_analysis import LinearDiscriminantAnalysis\n",
    "\n",
    "\n",
    "def train_model(X, Y=Y, test_size=0.3, random_state=42):\n",
    "    # Split the data into train and test sets\n",
    "    X_train, X_test, y_train, y_test = train_test_split(X, Y, test_size=test_size, random_state=random_state)\n",
    "\n",
    "    # Define a list of classifiers to try\n",
    "    classifiers = [\n",
    "        KNeighborsClassifier(),\n",
    "        SVC(),\n",
    "        DecisionTreeClassifier(),\n",
    "        RandomForestClassifier()\n",
    "    ]\n",
    "\n",
    "    # Loop over each classifier and evaluate its performance\n",
    "    for clf in classifiers:\n",
    "        clf.fit(X_train, y_train)  # Train the classifier\n",
    "        y_pred = clf.predict(X_test)  # Make predictions on the test set\n",
    "        accuracy = accuracy_score(y_test, y_pred)  # Calculate accuracy\n",
    "        # f1 = f1_score(y_test, y_pred)  # Calculate F1 score\n",
    "        cm = confusion_matrix(y_test, y_pred)  # Calculate confusion matrix\n",
    "\n",
    "        print(f\"Classifier: {clf.__class__.__name__}\")\n",
    "        print(\"Confusion Matrix:\")\n",
    "        print(cm)\n",
    "        print(\"Accuracy:\", accuracy)\n",
    "        # print(\"F1 Score:\", f1)\n",
    "        print(\"-------------------------------\")"
   ],
   "metadata": {
    "collapsed": false
   }
  },
  {
   "cell_type": "code",
   "execution_count": 24,
   "outputs": [
    {
     "name": "stdout",
     "output_type": "stream",
     "text": [
      "Classifier: KNeighborsClassifier\n",
      "Confusion Matrix:\n",
      "[[61 51 48 24]\n",
      " [44 50 33 35]\n",
      " [52 45 36 27]\n",
      " [45 54 43 23]]\n",
      "Accuracy: 0.2533532041728763\n",
      "-------------------------------\n",
      "Classifier: SVC\n",
      "Confusion Matrix:\n",
      "[[  0   3 179   2]\n",
      " [  2   7 151   2]\n",
      " [  0   8 150   2]\n",
      " [  0   1 161   3]]\n",
      "Accuracy: 0.23845007451564829\n",
      "-------------------------------\n",
      "Classifier: DecisionTreeClassifier\n",
      "Confusion Matrix:\n",
      "[[  0   0 184   0]\n",
      " [  0   0 162   0]\n",
      " [  0   0 160   0]\n",
      " [  0   0 165   0]]\n",
      "Accuracy: 0.23845007451564829\n",
      "-------------------------------\n",
      "Classifier: RandomForestClassifier\n",
      "Confusion Matrix:\n",
      "[[  0   0 184   0]\n",
      " [  0   0 162   0]\n",
      " [  0   0 160   0]\n",
      " [  0   0 165   0]]\n",
      "Accuracy: 0.23845007451564829\n",
      "-------------------------------\n"
     ]
    }
   ],
   "source": [
    "# train_model(X_PSD_flattened)"
   ],
   "metadata": {
    "collapsed": false
   }
  },
  {
   "cell_type": "code",
   "execution_count": 25,
   "outputs": [
    {
     "name": "stdout",
     "output_type": "stream",
     "text": [
      "Classifier: KNeighborsClassifier\n",
      "Confusion Matrix:\n",
      "[[30 34 66 54]\n",
      " [33 31 53 45]\n",
      " [22 30 63 45]\n",
      " [27 30 52 56]]\n",
      "Accuracy: 0.26825633383010433\n",
      "-------------------------------\n",
      "Classifier: SVC\n",
      "Confusion Matrix:\n",
      "[[28 32 81 43]\n",
      " [37 42 44 39]\n",
      " [36 37 48 39]\n",
      " [36 37 48 44]]\n",
      "Accuracy: 0.2414307004470939\n",
      "-------------------------------\n",
      "Classifier: DecisionTreeClassifier\n",
      "Confusion Matrix:\n",
      "[[39 52 48 45]\n",
      " [40 40 40 42]\n",
      " [34 42 40 44]\n",
      " [35 41 49 40]]\n",
      "Accuracy: 0.23695976154992549\n",
      "-------------------------------\n",
      "Classifier: RandomForestClassifier\n",
      "Confusion Matrix:\n",
      "[[43 46 47 48]\n",
      " [38 43 47 34]\n",
      " [32 42 58 28]\n",
      " [31 61 44 29]]\n",
      "Accuracy: 0.2578241430700447\n",
      "-------------------------------\n"
     ]
    }
   ],
   "source": [
    "# train_model(X_pca)"
   ],
   "metadata": {
    "collapsed": false
   }
  },
  {
   "cell_type": "code",
   "execution_count": 26,
   "outputs": [
    {
     "name": "stdout",
     "output_type": "stream",
     "text": [
      "Classifier: KNeighborsClassifier\n",
      "Confusion Matrix:\n",
      "[[40 40 50 54]\n",
      " [40 46 38 38]\n",
      " [30 39 56 35]\n",
      " [43 40 38 44]]\n",
      "Accuracy: 0.27719821162444114\n",
      "-------------------------------\n",
      "Classifier: SVC\n",
      "Confusion Matrix:\n",
      "[[53 42 44 45]\n",
      " [35 65 29 33]\n",
      " [40 33 54 33]\n",
      " [38 25 35 67]]\n",
      "Accuracy: 0.3561847988077496\n",
      "-------------------------------\n",
      "Classifier: DecisionTreeClassifier\n",
      "Confusion Matrix:\n",
      "[[45 43 55 41]\n",
      " [29 47 51 35]\n",
      " [30 44 40 46]\n",
      " [33 38 36 58]]\n",
      "Accuracy: 0.28315946348733234\n",
      "-------------------------------\n",
      "Classifier: RandomForestClassifier\n",
      "Confusion Matrix:\n",
      "[[44 46 40 54]\n",
      " [35 47 34 46]\n",
      " [30 33 49 48]\n",
      " [31 44 39 51]]\n",
      "Accuracy: 0.2846497764530551\n",
      "-------------------------------\n"
     ]
    }
   ],
   "source": [
    "# train_model(X_selected)"
   ],
   "metadata": {
    "collapsed": false
   }
  },
  {
   "cell_type": "code",
   "execution_count": 27,
   "outputs": [
    {
     "name": "stdout",
     "output_type": "stream",
     "text": [
      "Classifier: KNeighborsClassifier\n",
      "Confusion Matrix:\n",
      "[[61 52 47 24]\n",
      " [45 48 33 36]\n",
      " [51 46 36 27]\n",
      " [44 55 42 24]]\n",
      "Accuracy: 0.2518628912071535\n",
      "-------------------------------\n",
      "Classifier: SVC\n",
      "Confusion Matrix:\n",
      "[[  0   3 179   2]\n",
      " [  2   7 151   2]\n",
      " [  0   8 150   2]\n",
      " [  0   1 161   3]]\n",
      "Accuracy: 0.23845007451564829\n",
      "-------------------------------\n",
      "Classifier: DecisionTreeClassifier\n",
      "Confusion Matrix:\n",
      "[[  0   0 184   0]\n",
      " [  0   0 162   0]\n",
      " [  0   0 160   0]\n",
      " [  0   0 165   0]]\n",
      "Accuracy: 0.23845007451564829\n",
      "-------------------------------\n",
      "Classifier: RandomForestClassifier\n",
      "Confusion Matrix:\n",
      "[[  0   0 184   0]\n",
      " [  0   0 162   0]\n",
      " [  0   0 160   0]\n",
      " [  0   0 165   0]]\n",
      "Accuracy: 0.23845007451564829\n",
      "-------------------------------\n"
     ]
    }
   ],
   "source": [
    "# train_model(X_PSD_pca)"
   ],
   "metadata": {
    "collapsed": false
   }
  },
  {
   "cell_type": "code",
   "execution_count": 28,
   "outputs": [
    {
     "name": "stdout",
     "output_type": "stream",
     "text": [
      "Classifier: KNeighborsClassifier\n",
      "Confusion Matrix:\n",
      "[[47 57 47 33]\n",
      " [49 49 35 29]\n",
      " [58 40 42 20]\n",
      " [54 35 42 34]]\n",
      "Accuracy: 0.2563338301043219\n",
      "-------------------------------\n",
      "Classifier: SVC\n",
      "Confusion Matrix:\n",
      "[[ 13  53 107  11]\n",
      " [ 12  49  90  11]\n",
      " [ 13  40  97  10]\n",
      " [ 11  41  94  19]]\n",
      "Accuracy: 0.26527570789865873\n",
      "-------------------------------\n",
      "Classifier: DecisionTreeClassifier\n",
      "Confusion Matrix:\n",
      "[[  0   0 184   0]\n",
      " [  0   0 162   0]\n",
      " [  0   0 160   0]\n",
      " [  0   0 165   0]]\n",
      "Accuracy: 0.23845007451564829\n",
      "-------------------------------\n",
      "Classifier: RandomForestClassifier\n",
      "Confusion Matrix:\n",
      "[[  0   0 184   0]\n",
      " [  0   0 162   0]\n",
      " [  0   0 160   0]\n",
      " [  0   0 165   0]]\n",
      "Accuracy: 0.23845007451564829\n",
      "-------------------------------\n"
     ]
    }
   ],
   "source": [
    "# train_model(X_PSD_selected)"
   ],
   "metadata": {
    "collapsed": false
   }
  },
  {
   "cell_type": "code",
   "execution_count": 33,
   "outputs": [
    {
     "name": "stdout",
     "output_type": "stream",
     "text": [
      "Classifier: KNeighborsClassifier\n",
      "Confusion Matrix:\n",
      "[[137  18  13  16]\n",
      " [ 14 132   7   9]\n",
      " [ 10  14 124  12]\n",
      " [ 17  17  11 120]]\n",
      "Accuracy: 0.7645305514157973\n",
      "-------------------------------\n",
      "Classifier: SVC\n",
      "Confusion Matrix:\n",
      "[[136  20  13  15]\n",
      " [  9 133  11   9]\n",
      " [ 10   8 130  12]\n",
      " [  8  17  12 128]]\n",
      "Accuracy: 0.7853949329359166\n",
      "-------------------------------\n",
      "Classifier: DecisionTreeClassifier\n",
      "Confusion Matrix:\n",
      "[[122  23  11  28]\n",
      " [ 14 121  17  10]\n",
      " [ 15  13 116  16]\n",
      " [ 20  15  14 116]]\n",
      "Accuracy: 0.7078986587183308\n",
      "-------------------------------\n",
      "Classifier: RandomForestClassifier\n",
      "Confusion Matrix:\n",
      "[[137  19  11  17]\n",
      " [ 13 132   8   9]\n",
      " [ 12   9 124  15]\n",
      " [ 10  15  11 129]]\n",
      "Accuracy: 0.7779433681073026\n",
      "-------------------------------\n"
     ]
    }
   ],
   "source": [
    "# # Instantiate the LDA classifier\n",
    "# lda = LinearDiscriminantAnalysis(n_components=3)  # Specify the desired number of components\n",
    "#\n",
    "# # Fit the LDA model\n",
    "# lda.fit(X_selected, Y.ravel())\n",
    "#\n",
    "# # Transform the data to the reduced-dimensional space\n",
    "# X_lda = lda.transform(X_selected)\n",
    "#\n",
    "# # The shape of X_lda will be (Trials, k)\n",
    "#\n",
    "# train_model(X_lda)"
   ],
   "metadata": {
    "collapsed": false
   }
  },
  {
   "cell_type": "markdown",
   "source": [
    "----"
   ],
   "metadata": {
    "collapsed": false
   }
  },
  {
   "cell_type": "code",
   "execution_count": 37,
   "outputs": [
    {
     "name": "stderr",
     "output_type": "stream",
     "text": [
      "100%|██████████| 20/20 [01:26<00:00,  4.31s/it]\n"
     ]
    },
    {
     "data": {
      "text/plain": "<Figure size 640x480 with 1 Axes>",
      "image/png": "[encoded data removed]"
     },
     "metadata": {},
     "output_type": "display_data"
    },
    {
     "name": "stdout",
     "output_type": "stream",
     "text": [
      "Best k: 1500\n",
      "Maximum Accuracy: 0.35044642857142855\n"
     ]
    }
   ],
   "source": [
    "# # Define the range of k values\n",
    "# k_values = np.arange(100, 2001, 100)\n",
    "#\n",
    "# # Initialize lists to store accuracy and k values\n",
    "# accuracies = []\n",
    "# best_k = 0\n",
    "# max_accuracy = 0.0\n",
    "#\n",
    "# # Iterate over k values\n",
    "# for k in tqdm(k_values):\n",
    "#     # Apply SelectKBest with ANOVA F-value\n",
    "#     selector = SelectKBest(score_func=f_classif, k=k)\n",
    "#     X_selected = selector.fit_transform(X_flattened, Y.ravel())\n",
    "#\n",
    "#     # Split the data into train and test sets\n",
    "#     X_train, X_test, y_train, y_test = train_test_split(X_selected, Y, test_size=0.2, random_state=42)\n",
    "#\n",
    "#     # Create and fit the SVC classifier\n",
    "#     classifier = SVC()\n",
    "#     classifier.fit(X_train, y_train)\n",
    "#\n",
    "#     # Make predictions on the test set\n",
    "#     y_pred = classifier.predict(X_test)\n",
    "#\n",
    "#     # Calculate accuracy and store the maximum accuracy and corresponding k value\n",
    "#     accuracy = accuracy_score(y_test, y_pred)\n",
    "#     accuracies.append(accuracy)\n",
    "#\n",
    "#     if accuracy > max_accuracy:\n",
    "#         max_accuracy = accuracy\n",
    "#         best_k = k\n",
    "#\n",
    "# # Plot the accuracy vs. k values\n",
    "# plt.plot(k_values, accuracies)\n",
    "# plt.xlabel('Number of Features (k)')\n",
    "# plt.ylabel('Accuracy')\n",
    "# plt.title('Accuracy vs. Number of Features')\n",
    "# plt.show()\n",
    "#\n",
    "# print(\"Best k:\", best_k)\n",
    "# print(\"Maximum Accuracy:\", max_accuracy)"
   ],
   "metadata": {
    "collapsed": false
   }
  },
  {
   "cell_type": "code",
   "execution_count": 19,
   "outputs": [
    {
     "name": "stdout",
     "output_type": "stream",
     "text": [
      "SelectKBest PSD-reduced shape: (2236, 1500)\n",
      "Classifier: KNeighborsClassifier\n",
      "Confusion Matrix:\n",
      "[[169   2   3  10]\n",
      " [  2 155   2   3]\n",
      " [  3   2 153   2]\n",
      " [  4   4   5 152]]\n",
      "Accuracy: 0.9374068554396423\n",
      "-------------------------------\n",
      "Classifier: SVC\n",
      "Confusion Matrix:\n",
      "[[168   3   4   9]\n",
      " [  4 154   1   3]\n",
      " [  3   2 153   2]\n",
      " [  6   2   2 155]]\n",
      "Accuracy: 0.9388971684053651\n",
      "-------------------------------\n",
      "Classifier: DecisionTreeClassifier\n",
      "Confusion Matrix:\n",
      "[[163   8   4   9]\n",
      " [  5 149   2   6]\n",
      " [  2   6 147   5]\n",
      " [  6   3   5 151]]\n",
      "Accuracy: 0.9090909090909091\n",
      "-------------------------------\n",
      "Classifier: RandomForestClassifier\n",
      "Confusion Matrix:\n",
      "[[168   4   3   9]\n",
      " [  3 155   1   3]\n",
      " [  5   2 153   0]\n",
      " [  5   3   3 154]]\n",
      "Accuracy: 0.9388971684053651\n",
      "-------------------------------\n"
     ]
    }
   ],
   "source": [
    "# Apply SelectKBest with ANOVA F-value\n",
    "selector = SelectKBest(score_func=f_classif, k=1500)  # Choose the desired number of features\n",
    "X_selected = selector.fit_transform(X_flattened, Y.ravel())\n",
    "\n",
    "# Print the shapes of the reduced feature sets\n",
    "print(\"SelectKBest PSD-reduced shape:\", X_selected.shape)\n",
    "\n",
    "\n",
    "# Instantiate the LDA classifier\n",
    "lda = LinearDiscriminantAnalysis(n_components=3)  # Specify the desired number of components\n",
    "\n",
    "# Fit the LDA model\n",
    "lda.fit(X_selected, Y.ravel())\n",
    "\n",
    "# Transform the data to the reduced-dimensional space\n",
    "X_lda = lda.transform(X_selected)\n",
    "\n",
    "# The shape of X_lda will be (Trials, k)\n",
    "\n",
    "train_model(X_lda)"
   ],
   "metadata": {
    "collapsed": false
   }
  },
  {
   "cell_type": "code",
   "execution_count": 20,
   "outputs": [
    {
     "name": "stdout",
     "output_type": "stream",
     "text": [
      "Random Forest Accuracy: 0.9397321428571429\n",
      "SVC Accuracy: 0.9486607142857143\n",
      "XGBoost Accuracy: 0.9375\n",
      "Random Forest Best Parameters: {'max_depth': None, 'min_samples_split': 5, 'n_estimators': 300}\n",
      "SVC Best Parameters: {'C': 10, 'kernel': 'linear'}\n",
      "XGBoost Best Parameters: {'learning_rate': 0.1, 'max_depth': 3, 'n_estimators': 100}\n"
     ]
    }
   ],
   "source": [
    "from sklearn.ensemble import RandomForestClassifier\n",
    "from sklearn.svm import SVC\n",
    "from xgboost import XGBClassifier\n",
    "from sklearn.model_selection import GridSearchCV, train_test_split\n",
    "from sklearn.metrics import accuracy_score\n",
    "\n",
    "# Split the data into train and test sets\n",
    "X_train, X_test, y_train, y_test = train_test_split(X_lda, Y, test_size=0.2, random_state=42)\n",
    "\n",
    "# Random Forest Classifier\n",
    "rf_classifier = RandomForestClassifier(random_state=42)\n",
    "rf_param_grid = {\n",
    "    'n_estimators': [100, 200, 300],\n",
    "    'max_depth': [None, 5, 10],\n",
    "    'min_samples_split': [2, 5, 10]\n",
    "}\n",
    "rf_grid_search = GridSearchCV(rf_classifier, rf_param_grid, cv=5)\n",
    "rf_grid_search.fit(X_train, y_train)\n",
    "rf_best_classifier = rf_grid_search.best_estimator_\n",
    "\n",
    "# SVC Classifier\n",
    "svc_classifier = SVC(random_state=42)\n",
    "svc_param_grid = {\n",
    "    'C': [1, 10, 100],\n",
    "    'kernel': ['linear', 'rbf', 'poly']\n",
    "}\n",
    "svc_grid_search = GridSearchCV(svc_classifier, svc_param_grid, cv=5)\n",
    "svc_grid_search.fit(X_train, y_train)\n",
    "svc_best_classifier = svc_grid_search.best_estimator_\n",
    "\n",
    "# XGBoost Classifier\n",
    "xgb_classifier = XGBClassifier(random_state=42)\n",
    "xgb_param_grid = {\n",
    "    'max_depth': [3, 5, 7],\n",
    "    'learning_rate': [0.1, 0.01, 0.001],\n",
    "    'n_estimators': [100, 200, 300]\n",
    "}\n",
    "xgb_grid_search = GridSearchCV(xgb_classifier, xgb_param_grid, cv=5)\n",
    "xgb_grid_search.fit(X_train, y_train)\n",
    "xgb_best_classifier = xgb_grid_search.best_estimator_\n",
    "\n",
    "# Make predictions on the test set\n",
    "rf_y_pred = rf_best_classifier.predict(X_test)\n",
    "svc_y_pred = svc_best_classifier.predict(X_test)\n",
    "xgb_y_pred = xgb_best_classifier.predict(X_test)\n",
    "\n",
    "# Calculate accuracy\n",
    "rf_accuracy = accuracy_score(y_test, rf_y_pred)\n",
    "svc_accuracy = accuracy_score(y_test, svc_y_pred)\n",
    "xgb_accuracy = accuracy_score(y_test, xgb_y_pred)\n",
    "\n",
    "print(\"Random Forest Accuracy:\", rf_accuracy)\n",
    "print(\"SVC Accuracy:\", svc_accuracy)\n",
    "print(\"XGBoost Accuracy:\", xgb_accuracy)\n",
    "\n",
    "print(\"Random Forest Best Parameters:\", rf_grid_search.best_params_)\n",
    "print(\"SVC Best Parameters:\", svc_grid_search.best_params_)\n",
    "print(\"XGBoost Best Parameters:\", xgb_grid_search.best_params_)"
   ],
   "metadata": {
    "collapsed": false
   }
  },
  {
   "cell_type": "code",
   "execution_count": 24,
   "outputs": [
    {
     "name": "stdout",
     "output_type": "stream",
     "text": [
      "Classification Report:\n",
      "              precision    recall  f1-score   support\n",
      "\n",
      "         0.0       0.93      0.93      0.93       130\n",
      "         1.0       0.96      0.93      0.95       102\n",
      "         2.0       0.97      0.97      0.97       108\n",
      "         3.0       0.94      0.96      0.95       108\n",
      "\n",
      "    accuracy                           0.95       448\n",
      "   macro avg       0.95      0.95      0.95       448\n",
      "weighted avg       0.95      0.95      0.95       448\n",
      "\n",
      "Confusion Matrix:\n",
      "[[121   2   2   5]\n",
      " [  4  95   1   2]\n",
      " [  2   1 105   0]\n",
      " [  3   1   0 104]]\n",
      "Accuracy: 0.9486607142857143\n"
     ]
    }
   ],
   "source": [
    "from sklearn.svm import SVC\n",
    "from sklearn.metrics import classification_report, confusion_matrix, accuracy_score\n",
    "from sklearn.model_selection import train_test_split\n",
    "\n",
    "# Split the data into train and test sets\n",
    "X_train, X_test, y_train, y_test = train_test_split(X_lda, Y, test_size=0.2, random_state=42)\n",
    "\n",
    "# Train the SVC model with best parameters\n",
    "svc_classifier = SVC(C=10, kernel='linear')\n",
    "svc_classifier.fit(X_train, y_train)\n",
    "\n",
    "# Make predictions on the test set\n",
    "y_pred = svc_classifier.predict(X_test)\n",
    "\n",
    "# Print classification metrics\n",
    "print(\"Classification Report:\")\n",
    "print(classification_report(y_test, y_pred))\n",
    "\n",
    "print(\"Confusion Matrix:\")\n",
    "print(confusion_matrix(y_test, y_pred))\n",
    "\n",
    "accuracy = accuracy_score(y_test, y_pred)\n",
    "print(\"Accuracy:\", accuracy)"
   ],
   "metadata": {
    "collapsed": false
   }
  },
  {
   "cell_type": "code",
   "execution_count": null,
   "outputs": [],
   "source": [],
   "metadata": {
    "collapsed": false
   }
  }
 ],
 "metadata": {
  "kernelspec": {
   "display_name": "Python 3",
   "language": "python",
   "name": "python3"
  },
  "language_info": {
   "codemirror_mode": {
    "name": "ipython",
    "version": 2
   },
   "file_extension": ".py",
   "mimetype": "text/x-python",
   "name": "python",
   "nbconvert_exporter": "python",
   "pygments_lexer": "ipython2",
   "version": "2.7.6"
  }
 },
 "nbformat": 4,
 "nbformat_minor": 0
}
